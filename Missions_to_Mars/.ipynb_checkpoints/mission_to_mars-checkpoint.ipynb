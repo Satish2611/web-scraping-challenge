{
 "cells": [
  {
   "cell_type": "code",
   "execution_count": null,
   "metadata": {},
   "outputs": [],
   "source": [
    "from splinter import Browser\n",
    "from splinter.exceptions import ElementDoesNotExist\n",
    "from bs4 import BeautifulSoup\n",
    "import pandas as pd\n",
    "import time"
   ]
  },
  {
   "cell_type": "code",
   "execution_count": null,
   "metadata": {},
   "outputs": [],
   "source": [
    "executable_path = {'executable_path': 'C:\\\\bin\\chromedriver.exe'}\n",
    "browser = Browser('chrome', executable_path, headless=False)"
   ]
  },
  {
   "cell_type": "code",
   "execution_count": null,
   "metadata": {},
   "outputs": [],
   "source": [
    "### NASA Mars News"
   ]
  },
  {
   "cell_type": "code",
   "execution_count": null,
   "metadata": {},
   "outputs": [],
   "source": [
    "def nasa():\n",
    "        url = 'https://mars.nasa.gov/news/'\n",
    "        browser.visit(url)\n",
    "        time.sleep(2)\n",
    "\n",
    "        html = browser.html\n",
    "        soup = BeautifulSoup(html, 'html.parser')\n",
    "#Scraping title\n",
    "        news_ttl=[]\n",
    "        for div in soup.find_all('div', attrs={'class':'content_title'}):\n",
    "            news_ttl.append(div.find('a'))\n",
    "        news_title=news_ttl[1].text\n",
    "#Scrapping body\n",
    "        news=soup.find('div', attrs={'class':'article_teaser_body'}).text\n",
    "        return(news_title,news)"
   ]
  },
  {
   "cell_type": "code",
   "execution_count": null,
   "metadata": {},
   "outputs": [],
   "source": [
    "#Calling nasa function and saving in the variables\n",
    "news_title,news_p=nasa()\n",
    "print(f\"News Title :{news_title}\")\n",
    "print(f\"News Paragraph :{news_p}\")"
   ]
  },
  {
   "cell_type": "code",
   "execution_count": null,
   "metadata": {},
   "outputs": [],
   "source": [
    "##JPL Mars Space Images - Featured Image"
   ]
  },
  {
   "cell_type": "code",
   "execution_count": null,
   "metadata": {},
   "outputs": [],
   "source": [
    "#Scraping Marsh latest photo\n",
    "    def marsPhoto():\n",
    "        url = 'https://www.jpl.nasa.gov/spaceimages/?search=&category=Mars'\n",
    "        browser.visit(url)\n",
    "        time.sleep(2)\n",
    "\n",
    "        html = browser.html\n",
    "        soup = BeautifulSoup(html, 'html.parser')\n",
    "\n",
    "        image_url=soup.find('img', attrs={'class':'thumb'})\n",
    "        featured_image_url=f\"https://www.jpl.nasa.gov{image_url['src']}\"\n",
    "\n",
    "        return(featured_image_url)"
   ]
  },
  {
   "cell_type": "code",
   "execution_count": null,
   "metadata": {},
   "outputs": [],
   "source": [
    "#Function call for marsh photo \n",
    "featured_image_url=marsPhoto()\n",
    "print(featured_image_url)"
   ]
  },
  {
   "cell_type": "code",
   "execution_count": null,
   "metadata": {},
   "outputs": [],
   "source": [
    "###Mars Weather"
   ]
  },
  {
   "cell_type": "code",
   "execution_count": null,
   "metadata": {},
   "outputs": [],
   "source": [
    "###Scraping for Mars Weather\n",
    "    def marsWeater():\n",
    "        url='https://twitter.com/MarsWxReport'\n",
    "        browser.visit(url)\n",
    "        time.sleep(3)\n",
    "        \n",
    "        html = browser.html\n",
    "        soup = BeautifulSoup(html, 'html.parser')\n",
    "        mars_weather =soup.find_all(\"div\", attrs={\"class\":\"css-901oao r-hkyrab r-1qd0xha r-a023e6 r-16dba41 r-ad9z0x r-bcqeeo r-bnwqim r-qvutc0\"})[2].text\n",
    "        return(mars_weather)"
   ]
  },
  {
   "cell_type": "code",
   "execution_count": null,
   "metadata": {},
   "outputs": [],
   "source": [
    "#Function call to get the weather details\n",
    "mars_weather=marsWeater()\n",
    "print(mars_weather)"
   ]
  },
  {
   "cell_type": "code",
   "execution_count": null,
   "metadata": {},
   "outputs": [],
   "source": [
    "#Scraping for Mars Fact and loading pandas\n",
    "    def marsFact():\n",
    "        url='https://space-facts.com/mars/'\n",
    "        tables = pd.read_html(url)\n",
    "        time.sleep(3)\n",
    "        df=tables[0].reset_index(drop=True)\n",
    "        df.columns = ['Attributes','Value']\n",
    "        df['Attributes'] = [x.strip().replace(':', '') for x in df['Attributes']]\n",
    "        df['Attributes'] = [x.strip().replace(' ', '') for x in df['Attributes']]\n",
    "        df=df.set_index('Attributes').T.to_dict('records')[0]\n",
    "        # df=df.to_dict('records')\n",
    "        return df"
   ]
  },
  {
   "cell_type": "code",
   "execution_count": null,
   "metadata": {},
   "outputs": [],
   "source": [
    "#Function call for Mars Facts\n",
    "mars_fact=marsFact()"
   ]
  },
  {
   "cell_type": "code",
   "execution_count": null,
   "metadata": {},
   "outputs": [],
   "source": [
    "#Scrapping for title and photos\n",
    "def marsHemisphere(name):\n",
    "        url=f'https://astrogeology.usgs.gov/search/map/Mars/Viking/{name}'\n",
    "        browser.visit(url)\n",
    "        time.sleep(2)\n",
    "        html = browser.html\n",
    "        soup = BeautifulSoup(html, 'html.parser')\n",
    "        img=soup.find(\"div\", attrs={\"class\":\"wide-image-wrapper\"}).find('li').find('a').get('href')\n",
    "        title=soup.find(\"h2\", attrs={\"class\":\"title\"}).text\n",
    "        return img,title"
   ]
  },
  {
   "cell_type": "code",
   "execution_count": null,
   "metadata": {},
   "outputs": [],
   "source": [
    "#Creating dictionary and list of each photo\n",
    "hemisphere_image_urls=[]\n",
    "image_links=['cerberus_enhanced','schiaparelli_enhanced','syrtis_major_enhanced','valles_marineris_enhanced']\n",
    "for image_link in range(0,len(image_links)):\n",
    "    img_url,title=marsHemisphere(image_links[image_link])\n",
    "    hemisphere={\n",
    "       'title':title,\n",
    "       'img_url':img_url\n",
    "        }\n",
    "    hemisphere_image_urls.append(hemisphere)"
   ]
  },
  {
   "cell_type": "code",
   "execution_count": null,
   "metadata": {},
   "outputs": [],
   "source": [
    "hemisphere_image_urls"
   ]
  },
  {
   "cell_type": "code",
   "execution_count": null,
   "metadata": {},
   "outputs": [],
   "source": []
  }
 ],
 "metadata": {
  "kernelspec": {
   "display_name": "Python [conda env:PythonData]",
   "language": "python",
   "name": "conda-env-PythonData-py"
  },
  "language_info": {
   "codemirror_mode": {
    "name": "ipython",
    "version": 3
   },
   "file_extension": ".py",
   "mimetype": "text/x-python",
   "name": "python",
   "nbconvert_exporter": "python",
   "pygments_lexer": "ipython3",
   "version": "3.6.9"
  }
 },
 "nbformat": 4,
 "nbformat_minor": 4
}
